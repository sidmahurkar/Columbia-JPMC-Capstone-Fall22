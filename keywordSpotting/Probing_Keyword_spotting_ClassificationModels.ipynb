{
  "cells": [
    {
      "cell_type": "code",
      "execution_count": null,
      "metadata": {
        "id": "e2rN7L8UoY_C"
      },
      "outputs": [],
      "source": [
        "from tensorflow.keras.models import Sequential\n",
        "import tensorflow as tf\n",
        "from tensorflow import keras\n",
        "from tensorflow.keras import layers\n",
        "from tensorflow.keras.layers import Conv2D, Dense, MaxPool2D, Dropout, Flatten\n",
        "import matplotlib.pyplot as plt\n",
        "import pandas as pd"
      ]
    },
    {
      "cell_type": "code",
      "execution_count": null,
      "metadata": {
        "colab": {
          "base_uri": "https://localhost:8080/"
        },
        "id": "TWY3GGlQvgoR",
        "outputId": "8238d3fe-d1d4-405a-ed85-2f8b4617aebb"
      },
      "outputs": [
        {
          "output_type": "stream",
          "name": "stdout",
          "text": [
            "Mounted at /content/drive\n"
          ]
        }
      ],
      "source": [
        "from google.colab import drive\n",
        "drive.mount('/content/drive')"
      ]
    },
    {
      "cell_type": "code",
      "execution_count": null,
      "metadata": {
        "colab": {
          "base_uri": "https://localhost:8080/"
        },
        "id": "Y14laGTewIKo",
        "outputId": "87c1f56b-4237-4adb-df6d-439c76a9e0cf"
      },
      "outputs": [
        {
          "output_type": "stream",
          "name": "stdout",
          "text": [
            "/content\n"
          ]
        }
      ],
      "source": [
        "!pwd"
      ]
    },
    {
      "cell_type": "code",
      "execution_count": null,
      "metadata": {
        "id": "WFybMo0kFO11"
      },
      "outputs": [],
      "source": [
        "#split = \"HuBERT\"\n",
        "split = \"Wav2Vec2\"\n",
        "layer_number = 11 "
      ]
    },
    {
      "cell_type": "code",
      "execution_count": null,
      "metadata": {
        "id": "3SISQGpJwHKW"
      },
      "outputs": [],
      "source": [
        "PROJECT_ROOT = \"/content/drive/MyDrive/JPMC_Capstone/Poster_Hidden_States/keywordspotting/Wav2Vec2\""
      ]
    },
    {
      "cell_type": "code",
      "execution_count": null,
      "metadata": {
        "colab": {
          "base_uri": "https://localhost:8080/"
        },
        "id": "u2XBrSw7uclQ",
        "outputId": "d5712e05-039e-498e-d507-c59598c2d090"
      },
      "outputs": [
        {
          "output_type": "stream",
          "name": "stdout",
          "text": [
            "/content\n"
          ]
        }
      ],
      "source": [
        "!pwd"
      ]
    },
    {
      "cell_type": "code",
      "source": [
        "PROJECT_ROOT = \"/content/drive/MyDrive/JPMC_Capstone/Poster_Hidden_States/keywordspotting/Wav2Vec2\""
      ],
      "metadata": {
        "id": "nDDDD3d583-E"
      },
      "execution_count": null,
      "outputs": []
    },
    {
      "cell_type": "code",
      "execution_count": null,
      "metadata": {
        "id": "1WCG0OYK1VJM"
      },
      "outputs": [],
      "source": [
        "\n",
        "layer_number = 0\n",
        "file_name = PROJECT_ROOT + \"/1200_layer\" + str(layer_number) + \"_concatenate\" + '.pt'"
      ]
    },
    {
      "cell_type": "code",
      "execution_count": null,
      "metadata": {
        "id": "VfHfpH0AM_xQ",
        "colab": {
          "base_uri": "https://localhost:8080/"
        },
        "outputId": "c859aee9-d651-435c-be88-04053c23e6d5"
      },
      "outputs": [
        {
          "output_type": "execute_result",
          "data": {
            "text/plain": [
              "torch.Size([1200, 49, 768])"
            ]
          },
          "metadata": {},
          "execution_count": 563
        }
      ],
      "source": [
        "# file_name = final_root + \"861_layer\" + str(0) + \"_concatenate\" + '.pt'\n",
        "complete_tensor = torch.load(file_name)\n",
        "complete_tensor.shape"
      ]
    },
    {
      "cell_type": "code",
      "execution_count": null,
      "metadata": {
        "id": "Asw-VPUGEQXm"
      },
      "outputs": [],
      "source": [
        "import torch.nn.functional as F"
      ]
    },
    {
      "cell_type": "code",
      "execution_count": null,
      "metadata": {
        "id": "bQhPjGDYD-JA"
      },
      "outputs": [],
      "source": [
        "# shape of outputed hiddden states!\n",
        "# shape (batch_size, sequence_length, hidden_size)"
      ]
    },
    {
      "cell_type": "code",
      "execution_count": null,
      "metadata": {
        "colab": {
          "base_uri": "https://localhost:8080/"
        },
        "id": "DDQilXWQu8_w",
        "outputId": "4a170e79-d81f-448b-a313-e104752c7dc8"
      },
      "outputs": [
        {
          "output_type": "stream",
          "name": "stdout",
          "text": [
            "<class 'numpy.ndarray'>\n",
            "(1200, 49, 768)\n"
          ]
        }
      ],
      "source": [
        "'''\n",
        "import numpy as np\n",
        "embeeded_layer = torch.flatten(complete_tensor, start_dim=1)\n",
        "embeeded_layer.shape\n",
        "'''\n",
        "embeeded_layer_npArray = complete_tensor.detach().numpy()\n",
        "print(type(embeeded_layer_npArray))\n",
        "print(embeeded_layer_npArray.shape)"
      ]
    },
    {
      "cell_type": "code",
      "execution_count": null,
      "metadata": {
        "colab": {
          "base_uri": "https://localhost:8080/"
        },
        "id": "JojAhc495xeX",
        "outputId": "812d2220-6e27-4fef-dc50-e4a4bfed90e0"
      },
      "outputs": [
        {
          "output_type": "stream",
          "name": "stdout",
          "text": [
            "(array([ 0,  1,  2,  3,  4,  5,  6,  7,  8,  9, 10, 11]), array([100, 100, 100, 100, 100, 100, 100, 100, 100, 100, 100, 100]))\n",
            "1200\n"
          ]
        }
      ],
      "source": [
        "y=[]\n",
        "for filename,label in dic.items():\n",
        "  y.append(label)\n",
        "\n",
        "y = np.array(y)\n",
        "\n",
        "print(np.unique(y,return_counts=True))\n",
        "print(len(y))"
      ]
    },
    {
      "cell_type": "code",
      "execution_count": null,
      "metadata": {
        "id": "wLeADREo5RUY"
      },
      "outputs": [],
      "source": [
        "from sklearn.model_selection import train_test_split\n",
        "from sklearn.metrics import accuracy_score\n",
        "x_train, x_test, y_train, y_test = train_test_split(embeeded_layer_npArray, y, test_size=0.2, random_state=42, stratify=y)"
      ]
    },
    {
      "cell_type": "code",
      "execution_count": null,
      "metadata": {
        "colab": {
          "base_uri": "https://localhost:8080/"
        },
        "id": "90Fstg4MDJmv",
        "outputId": "ea37a283-217e-4ec4-be6c-829d56162cd2"
      },
      "outputs": [
        {
          "output_type": "stream",
          "name": "stdout",
          "text": [
            "[[[ 0.30649462  0.4967485   0.10842719 ... -0.2535282  -0.40947378\n",
            "   -0.04389531]\n",
            "  [ 0.11927306  0.29499388  0.08418141 ...  0.23535492 -0.29699606\n",
            "    0.51740885]\n",
            "  [ 0.30467182  0.10465398  0.16043262 ...  0.02587144 -0.19949596\n",
            "    0.24901204]\n",
            "  ...\n",
            "  [ 0.20966947 -0.04812983 -0.22052151 ...  0.07862235 -0.19667065\n",
            "    0.07783277]\n",
            "  [-0.25035766  0.34214813 -0.19189714 ... -0.0785259  -0.19620155\n",
            "    0.19336754]\n",
            "  [ 0.4192721   0.17172322 -0.5167552  ... -0.11023837 -0.16784391\n",
            "    0.1042634 ]]\n",
            "\n",
            " [[-0.17751947  0.13188353 -0.05391225 ...  0.05789977  0.15487438\n",
            "   -0.24960288]\n",
            "  [ 0.1366394   0.1854501   0.01336544 ...  0.22685535  0.44102305\n",
            "   -0.02424739]\n",
            "  [ 0.31435055  0.36704347 -0.01651937 ...  0.27569002  0.4147963\n",
            "    0.03262385]\n",
            "  ...\n",
            "  [ 0.12887909  0.07367541  0.00923616 ...  0.23467173  0.1277689\n",
            "   -0.0501844 ]\n",
            "  [ 0.36934787  0.08214418 -0.05059772 ...  0.4205813   0.41019815\n",
            "   -0.17633332]\n",
            "  [ 0.39367974  0.08188879  0.04829562 ...  0.28578234  0.30003694\n",
            "   -0.37491745]]\n",
            "\n",
            " [[ 0.13915084  0.29407293 -0.38231137 ... -0.08367723  0.11696818\n",
            "    0.28743675]\n",
            "  [-0.43641073  0.37292415 -0.28864923 ...  0.05571166 -0.06438493\n",
            "    0.2559712 ]\n",
            "  [-0.10559402  0.45826605 -0.27306426 ...  0.08950839 -0.1697991\n",
            "    0.10089479]\n",
            "  ...\n",
            "  [ 0.2905544   0.33657303 -0.21925594 ... -0.27462527 -0.07082993\n",
            "    0.07407598]\n",
            "  [ 0.13127641 -0.3835042  -0.17229296 ... -0.07442243 -0.01700872\n",
            "    0.06173009]\n",
            "  [ 0.18783136 -0.34715447 -0.17979637 ...  0.03067918 -0.09065618\n",
            "    0.11804707]]\n",
            "\n",
            " [[ 0.3731346   0.3410241   0.06273699 ...  0.2986556   0.07039374\n",
            "    0.5010122 ]\n",
            "  [ 0.18023238 -0.07295693  0.45098943 ...  0.46765712  0.31150186\n",
            "    0.07012918]\n",
            "  [ 0.09938131  0.10024199  0.5628711  ...  0.25586352 -0.01949836\n",
            "   -0.0164996 ]\n",
            "  ...\n",
            "  [ 0.6337024  -0.08895307  0.7362059  ...  0.22177136  0.21694864\n",
            "    0.3599034 ]\n",
            "  [-0.14589725  0.19129257  0.5902471  ...  0.4977655  -0.07472257\n",
            "    0.44283924]\n",
            "  [-0.03106808  0.24665566  0.05503939 ...  0.2183097  -0.17269012\n",
            "    0.271243  ]]\n",
            "\n",
            " [[-0.12397783  0.08162972 -0.27382484 ...  0.2099733   0.03774389\n",
            "   -0.01660869]\n",
            "  [-0.18008696 -0.10941134 -0.15918739 ...  0.33055004 -0.15547636\n",
            "   -0.0490624 ]\n",
            "  [-0.21447806  0.04401248 -0.2755927  ...  0.15578814  0.18249166\n",
            "    0.02586914]\n",
            "  ...\n",
            "  [ 0.          0.          0.         ...  0.          0.\n",
            "    0.        ]\n",
            "  [ 0.          0.          0.         ...  0.          0.\n",
            "    0.        ]\n",
            "  [ 0.          0.          0.         ...  0.          0.\n",
            "    0.        ]]]\n",
            "[ 7  1  7 11  9]\n",
            "[[[-0.04207962  0.7308263   0.24092169 ...  0.29305837 -0.29564738\n",
            "    0.4576047 ]\n",
            "  [-0.14439334  0.5349881  -0.01754022 ...  0.22278361 -0.3336295\n",
            "    0.08567993]\n",
            "  [ 0.21599941  0.22992018 -0.12006196 ...  0.39987656 -0.01511402\n",
            "   -0.05715458]\n",
            "  ...\n",
            "  [-0.1192351   0.20358744  0.41123462 ... -0.12706311  0.02190684\n",
            "    0.31188884]\n",
            "  [ 0.06966127 -0.03962572  0.28088808 ...  0.19581918 -0.20949778\n",
            "    0.22180386]\n",
            "  [-0.0802347   0.15360957  0.51313436 ...  0.04821761 -0.4536093\n",
            "    0.2303203 ]]\n",
            "\n",
            " [[ 0.02485906 -0.08704365 -0.46063596 ... -0.31322607  0.09810726\n",
            "   -0.16956134]\n",
            "  [-0.13283211 -0.3126885  -0.26404622 ... -0.311816   -0.18771498\n",
            "   -0.21132669]\n",
            "  [-0.15523447  0.06767146 -0.32013437 ... -0.20019694  0.1029768\n",
            "   -0.17859128]\n",
            "  ...\n",
            "  [-0.0094843  -0.28065625  1.0319712  ... -0.48653677 -0.01788312\n",
            "   -0.1700537 ]\n",
            "  [-0.3220657  -0.02599847  0.75009316 ... -0.1583979  -0.00682345\n",
            "    0.08787677]\n",
            "  [-0.2002355  -0.0444732   0.08188044 ... -0.10580497  0.16544235\n",
            "    0.08219489]]\n",
            "\n",
            " [[ 0.5285839  -0.03763369  0.04739389 ... -0.43271446 -0.45037213\n",
            "    0.01068687]\n",
            "  [ 0.521464   -0.10800057  0.25659713 ... -0.52123207 -0.05324568\n",
            "    0.33703542]\n",
            "  [ 0.20168097  0.08936107  0.09407041 ... -0.30922517 -0.29773188\n",
            "    0.19809957]\n",
            "  ...\n",
            "  [-0.00112314  0.45625627 -0.31505483 ... -0.35520467  0.16533338\n",
            "   -0.13888997]\n",
            "  [ 0.31205106  0.34009948  0.22362863 ... -0.3136805   0.39347538\n",
            "   -0.18467636]\n",
            "  [ 0.07740571  0.01307661 -0.13531421 ...  0.08470133  0.3662811\n",
            "   -0.13481157]]\n",
            "\n",
            " [[ 0.06419066  0.2775816  -0.2926992  ...  0.28647792  0.10963922\n",
            "    0.23249093]\n",
            "  [-0.18996732 -0.09466833 -0.33322492 ...  0.39601538  0.06765401\n",
            "    0.28721988]\n",
            "  [ 0.30356908 -0.02720121 -0.3285807  ...  0.3757249  -0.54164034\n",
            "    0.06815833]\n",
            "  ...\n",
            "  [-0.06209711 -0.0059977   0.07955672 ...  0.2322862  -0.46606365\n",
            "    0.17718668]\n",
            "  [-0.1228893  -0.15635957  0.00557616 ...  0.41924477 -0.22037433\n",
            "    0.20268334]\n",
            "  [-0.02819934 -0.25379848 -0.18358557 ...  0.304898   -0.6245255\n",
            "    0.0229086 ]]\n",
            "\n",
            " [[ 0.15565562 -0.33704847  0.35188442 ... -0.15490016 -0.33770305\n",
            "   -0.05832244]\n",
            "  [-0.26324463 -0.38243732  0.27919626 ...  0.17678119 -0.07676334\n",
            "    0.23475522]\n",
            "  [-0.15901744 -0.22035842  0.10016336 ... -0.03560761 -0.412592\n",
            "    0.14137791]\n",
            "  ...\n",
            "  [ 0.08128033  0.18159847  0.5271497  ...  0.12671979  0.05906034\n",
            "    0.14467824]\n",
            "  [-0.1546527   0.01971427 -0.2470763  ...  0.05627257  0.9613982\n",
            "   -0.24505264]\n",
            "  [ 0.10365258  0.08898945 -0.16133085 ...  0.20056976  0.19628984\n",
            "    0.56599045]]]\n",
            "[2 8 1 1 2]\n"
          ]
        }
      ],
      "source": [
        "print(x_train[:5])\n",
        "print(y_train[:5])\n",
        "print(x_test[:5])\n",
        "print(y_test[:5])"
      ]
    },
    {
      "cell_type": "code",
      "source": [
        "from openpyxl import load_workbook\n",
        "from openpyxl.utils.dataframe import dataframe_to_rows"
      ],
      "metadata": {
        "id": "bNF2gUDaDUGh"
      },
      "execution_count": null,
      "outputs": []
    },
    {
      "cell_type": "code",
      "source": [
        "split=\"Wav2Vec2\"\n",
        "def LSTM_model(num_classes, X_train, y_train, x_test, y_tset):\n",
        "\n",
        "    model = tf.keras.Sequential([\n",
        "    tf.keras.layers.LSTM(128, input_shape = (49, 768), return_sequences = True), # making LSTM bidirectional\n",
        "    tf.keras.layers.LSTM(64), # making LSTM bidirectional\n",
        "    tf.keras.layers.Dense(32, activation='relu'), # FC layer for the classification part\n",
        "    tf.keras.layers.Dense(num_classes, activation='softmax') # final FC layer\n",
        "\n",
        "    ])\n",
        "    \n",
        "    model.compile(loss = 'sparse_categorical_crossentropy', optimizer = 'adam', metrics = ['accuracy'])\n",
        "\n",
        "    \n",
        "    history_callback = model.fit(X_train, y_train, batch_size = 128, epochs = 20, validation_split=0.2,verbose = 2)\n",
        "\n",
        "    hist = pd.DataFrame(history_callback.history)\n",
        "    plt.plot(hist.index, hist['loss'], label ='training loss')\n",
        "    plt.plot(hist.index, hist['val_loss'], label = 'val loss')\n",
        "    plt.legend()\n",
        "    plt.xlabel('epochs')\n",
        "    plt.ylabel('loss')\n",
        "    plt.show()\n",
        "\n",
        "    plt.plot(hist.index, hist['accuracy'], '-b', label = 'training accuracy')\n",
        "    plt.plot(hist.index, hist['val_accuracy'], '-r', label = 'val accuracy')\n",
        "    plt.legend()\n",
        "    plt.ylabel('accuracy')\n",
        "    plt.xlabel('epochs')\n",
        "    plt.show()\n",
        "\n",
        "    score = model.evaluate(x_test, y_test, verbose = 0)\n",
        "    print(\"Test Loss: {:.3f}\".format(score[0]))\n",
        "    print(\"Test Accuracy: {:.3f}\".format(score[1]))\n",
        "\n",
        "    y_pred = model.predict(x_test)\n",
        "    y_pred = np.argmax(y_pred,axis=1)\n",
        "\n",
        "\n",
        "    from sklearn.metrics import multilabel_confusion_matrix\n",
        "    multi_confusion = multilabel_confusion_matrix(y_pred, y_test, labels =[0,1,2,3,4,5,6,7,8,9,10,11])\n",
        "    print('Confusion Matrix\\n')\n",
        "    print(multi_confusion)\n",
        "    Layer_tp = []\n",
        "    for i in multi_confusion:\n",
        "        Layer_tp.append(i[1][1])\n",
        "\n",
        "\n",
        "    labels = [0,1,2,3,4,5,6,7,8,9,10,11]\n",
        "    wb = load_workbook(filename = \"/content/drive/MyDrive/Heatmap.xlsx\") # i.e. \"file.xlsx\"\n",
        "    if 'KS_LSTM_' + split not in wb.sheetnames:\n",
        "        temp_df= pd.DataFrame(columns = [\"Label\",\"Layer_0\",\"Layer_1\",\"Layer_2\",\"Layer_3\",\"Layer_4\",\"Layer_5\",\"Layer_6\",\"Layer_7\",\"Layer_8\",\"Layer_9\",\"Layer_10\",\"Layer_11\",\"Layer_12\"])\n",
        "        for i in labels:\n",
        "            temp_df.loc[len(temp_df.index)] = [i, 0, 0, 0, 0, 0, 0, 0, 0, 0, 0, 0, 0, 0] \n",
        "        wb.create_sheet('KS_LSTM_' + split)\n",
        "        ws = wb['KS_LSTM_' + split]\n",
        "        rows = dataframe_to_rows(temp_df, index= False)\n",
        "\n",
        "        for r_idx, row in enumerate(rows, 1):\n",
        "            for c_idx, value in enumerate(row, 1):\n",
        "                ws.cell(row=r_idx, column=c_idx, value=value)\n",
        "        wb.save(filename=\"/content/drive/MyDrive/Heatmap.xlsx\")\n",
        "\n",
        "    \n",
        "    wb = load_workbook(filename = \"/content/drive/MyDrive/Heatmap.xlsx\") # i.e. \"file.xlsx\"\n",
        "    ws = wb['KS_LSTM_' + split]\n",
        "    columns=\"BCDEFGHIJKLMN\"\n",
        "    for row in range(2,len(labels)+2):  \n",
        "        cell_name = \"{}{}\".format(columns[layer_number], row)\n",
        "        ws[cell_name].value = Layer_tp[row-2]\n",
        "\n",
        "    cell_name = \"{}{}\".format(columns[layer_number], len(labels)+2)\n",
        "    ws[cell_name].value = score[1]\n",
        "\n",
        "    wb.save(filename=\"/content/drive/MyDrive/Heatmap.xlsx\")"
      ],
      "metadata": {
        "id": "pfxPsF3c0T5S"
      },
      "execution_count": null,
      "outputs": []
    },
    {
      "cell_type": "code",
      "source": [
        "num_classes=12\n",
        "LSTM_model(num_classes, x_train, y_train, x_test, y_test)"
      ],
      "metadata": {
        "colab": {
          "base_uri": "https://localhost:8080/",
          "height": 1000
        },
        "id": "bx9kMnvz0Y-9",
        "outputId": "8e42e8f1-5286-44ae-ddaf-f7baa9e2edb1"
      },
      "execution_count": null,
      "outputs": [
        {
          "output_type": "stream",
          "name": "stdout",
          "text": [
            "Epoch 1/20\n",
            "6/6 - 3s - loss: 2.3693 - accuracy: 0.1706 - val_loss: 2.1940 - val_accuracy: 0.3073 - 3s/epoch - 558ms/step\n",
            "Epoch 2/20\n",
            "6/6 - 0s - loss: 2.0699 - accuracy: 0.3763 - val_loss: 1.9513 - val_accuracy: 0.3802 - 205ms/epoch - 34ms/step\n",
            "Epoch 3/20\n",
            "6/6 - 0s - loss: 1.7217 - accuracy: 0.5247 - val_loss: 1.5783 - val_accuracy: 0.5260 - 217ms/epoch - 36ms/step\n",
            "Epoch 4/20\n",
            "6/6 - 0s - loss: 1.3379 - accuracy: 0.6276 - val_loss: 1.2421 - val_accuracy: 0.6250 - 206ms/epoch - 34ms/step\n",
            "Epoch 5/20\n",
            "6/6 - 0s - loss: 0.9917 - accuracy: 0.7305 - val_loss: 1.0246 - val_accuracy: 0.6458 - 167ms/epoch - 28ms/step\n",
            "Epoch 6/20\n",
            "6/6 - 0s - loss: 0.7039 - accuracy: 0.8255 - val_loss: 0.9429 - val_accuracy: 0.6927 - 167ms/epoch - 28ms/step\n",
            "Epoch 7/20\n",
            "6/6 - 0s - loss: 0.5549 - accuracy: 0.8568 - val_loss: 0.7832 - val_accuracy: 0.7500 - 163ms/epoch - 27ms/step\n",
            "Epoch 8/20\n",
            "6/6 - 0s - loss: 0.3878 - accuracy: 0.9023 - val_loss: 0.6628 - val_accuracy: 0.7812 - 164ms/epoch - 27ms/step\n",
            "Epoch 9/20\n",
            "6/6 - 0s - loss: 0.2679 - accuracy: 0.9531 - val_loss: 0.6407 - val_accuracy: 0.7969 - 156ms/epoch - 26ms/step\n",
            "Epoch 10/20\n",
            "6/6 - 0s - loss: 0.1978 - accuracy: 0.9701 - val_loss: 0.5871 - val_accuracy: 0.8281 - 156ms/epoch - 26ms/step\n",
            "Epoch 11/20\n",
            "6/6 - 0s - loss: 0.1541 - accuracy: 0.9766 - val_loss: 0.4597 - val_accuracy: 0.8490 - 159ms/epoch - 26ms/step\n",
            "Epoch 12/20\n",
            "6/6 - 0s - loss: 0.1152 - accuracy: 0.9831 - val_loss: 0.5463 - val_accuracy: 0.8333 - 144ms/epoch - 24ms/step\n",
            "Epoch 13/20\n",
            "6/6 - 0s - loss: 0.0962 - accuracy: 0.9870 - val_loss: 0.5384 - val_accuracy: 0.8646 - 155ms/epoch - 26ms/step\n",
            "Epoch 14/20\n",
            "6/6 - 0s - loss: 0.1102 - accuracy: 0.9740 - val_loss: 0.6212 - val_accuracy: 0.8073 - 166ms/epoch - 28ms/step\n",
            "Epoch 15/20\n",
            "6/6 - 0s - loss: 0.0914 - accuracy: 0.9766 - val_loss: 0.7314 - val_accuracy: 0.7604 - 185ms/epoch - 31ms/step\n",
            "Epoch 16/20\n",
            "6/6 - 0s - loss: 0.0781 - accuracy: 0.9896 - val_loss: 0.5442 - val_accuracy: 0.8490 - 148ms/epoch - 25ms/step\n",
            "Epoch 17/20\n",
            "6/6 - 0s - loss: 0.0625 - accuracy: 0.9909 - val_loss: 0.5483 - val_accuracy: 0.8490 - 157ms/epoch - 26ms/step\n",
            "Epoch 18/20\n",
            "6/6 - 0s - loss: 0.0478 - accuracy: 0.9948 - val_loss: 0.7543 - val_accuracy: 0.8073 - 144ms/epoch - 24ms/step\n",
            "Epoch 19/20\n",
            "6/6 - 0s - loss: 0.0378 - accuracy: 0.9961 - val_loss: 0.6215 - val_accuracy: 0.8490 - 149ms/epoch - 25ms/step\n",
            "Epoch 20/20\n",
            "6/6 - 0s - loss: 0.0349 - accuracy: 0.9961 - val_loss: 0.5184 - val_accuracy: 0.8802 - 151ms/epoch - 25ms/step\n"
          ]
        },
        {
          "output_type": "display_data",
          "data": {
            "text/plain": [
              "<Figure size 432x288 with 1 Axes>"
            ],
            "image/png": "[encoded data removed]"
          },
          "metadata": {
            "needs_background": "light"
          }
        },
        {
          "output_type": "display_data",
          "data": {
            "text/plain": [
              "<Figure size 432x288 with 1 Axes>"
            ],
            "image/png": "[encoded data removed]"
          },
          "metadata": {
            "needs_background": "light"
          }
        },
        {
          "output_type": "stream",
          "name": "stdout",
          "text": [
            "Test Loss: 0.571\n",
            "Test Accuracy: 0.863\n",
            "8/8 [==============================] - 1s 6ms/step\n",
            "Confusion Matrix\n",
            "\n",
            "[[[218   3]\n",
            "  [  2  17]]\n",
            "\n",
            " [[212   4]\n",
            "  [  8  16]]\n",
            "\n",
            " [[217   3]\n",
            "  [  3  17]]\n",
            "\n",
            " [[217   2]\n",
            "  [  3  18]]\n",
            "\n",
            " [[217   3]\n",
            "  [  3  17]]\n",
            "\n",
            " [[218   1]\n",
            "  [  2  19]]\n",
            "\n",
            " [[220   3]\n",
            "  [  0  17]]\n",
            "\n",
            " [[220   5]\n",
            "  [  0  15]]\n",
            "\n",
            " [[217   1]\n",
            "  [  3  19]]\n",
            "\n",
            " [[216   5]\n",
            "  [  4  15]]\n",
            "\n",
            " [[218   1]\n",
            "  [  2  19]]\n",
            "\n",
            " [[217   2]\n",
            "  [  3  18]]]\n"
          ]
        }
      ]
    },
    {
      "cell_type": "code",
      "source": [
        "from sklearn.linear_model import LogisticRegression\n",
        "reg = LogisticRegression()\n",
        "reg.fit(x_train, y_train)\n",
        "y_pred = reg.predict(x_test)\n",
        "print(y_pred)\n",
        "print(accuracy_score(y_test,y_pred))"
      ],
      "metadata": {
        "id": "gCU3T-uwswq5"
      },
      "execution_count": null,
      "outputs": []
    },
    {
      "cell_type": "code",
      "execution_count": null,
      "metadata": {
        "colab": {
          "base_uri": "https://localhost:8080/"
        },
        "id": "AdtThctaf8Y8",
        "outputId": "efac6ee3-60aa-42d1-c24e-52f2db3c1f2d"
      },
      "outputs": [
        {
          "name": "stdout",
          "output_type": "stream",
          "text": [
            "[ 2  8  1  1  2  5  1 10  7  2  9  1  5  6  2  7  5  2  3  3  9  0  0  4\n",
            "  6  1 10  5  0  1  2  5  4  9  8 11  8  3 10  2  8 10 10  3  9 11 11  9\n",
            "  5  6  2  5  4 10  9  6  5  7  9  9  8 11 10  2  2  6  0  5  9 10  5  5\n",
            "  2  6  3  4  9  6  3  4  4  0  1  5  5  1  7 10  4  6  6  4 11 11  3  5\n",
            "  7  4  1  5  5 10 11  8 10  7  0  0  5  5  6  3 11  3  2 11  9  4  9  9\n",
            "  2 11 10  1  7  5  9  4  4 11  8  8  7  9  4  0  2  8  2  8 10  5  4  0\n",
            "  6  1  9  0  3 11  7  6  3  6  4 11  5  1  1  5 10 10  2  1 10 11  2  3\n",
            " 11  4 11  1  3  0  2  1  3  6  0  7  8  2 10  2 11  7 11  8  5 10  8  3\n",
            "  9  8  7  7  4  8  2  4  0 10  2  3  1  4  2  2 10  7  3  8  6  6  6  4\n",
            "  0  0  1  6 10 10  9 11  7  5  7  6  2  2  2  5  8  6  2  0  5  9  4  1]\n",
            "0.8833333333333333\n"
          ]
        }
      ],
      "source": [
        "from sklearn.svm import SVC\n",
        "reg = SVC()\n",
        "reg.fit(x_train, y_train)\n",
        "y_pred = reg.predict(x_test)\n",
        "print(y_pred)\n",
        "print(accuracy_score(y_test,y_pred))"
      ]
    },
    {
      "cell_type": "code",
      "execution_count": null,
      "metadata": {
        "colab": {
          "base_uri": "https://localhost:8080/"
        },
        "id": "u18QkXONMSyZ",
        "outputId": "b25a7b08-caa3-4f77-dc8e-6b4df1704647"
      },
      "outputs": [
        {
          "name": "stdout",
          "output_type": "stream",
          "text": [
            "[ 2  8  1  1  2  5  1 10  7  2  9  1  5  6  2  2 11  2  3  3  9  0  0  4\n",
            "  6  5 10  5  0  1  2  2  4  9  8 11  8  3 10  2  8 10 10  3  9 11 11  9\n",
            "  4  3  8  0  4 10  9  6  5  2  9  1  8 11 10  2  2  6  0  5  9 10  5  5\n",
            "  2  6  3  4  9  5  3  4  3  0  1  3  5  1  7 10  4  6  6  4 11  9  3  5\n",
            "  7  5  1  9  5 10 11  8 10  7  0  0  6  5  6  3 11  3  2 11 11  4  9  9\n",
            "  2 11 10  1  7  5  1  4  4 11  8  8  6  9  4  0  2  8  2  8 10  0  1  0\n",
            "  6  3  9  0  3  0  7  6  3  6  4 11  5  1  1  5 10 10  2  1 10 11  7  3\n",
            " 11  4 11  1  3  0  6  1  3  6  4  7  8  7 10  5 11  6 11  8  5 10  8  5\n",
            "  9  8  7  7  4  8  2  4  0 10  2  3  1  4  7  2 10  7  3  1  6  6  6  0\n",
            "  0  0  1  6 10 10  9 11  2  2  7  6  7  2  5  5  8  6  2  0  5  9  4  1]\n",
            "0.8541666666666666\n"
          ]
        }
      ],
      "source": [
        "from sklearn.ensemble import RandomForestClassifier\n",
        "clf = RandomForestClassifier()\n",
        "clf.fit(x_train, y_train)\n",
        "y_pred = clf.predict(x_test)\n",
        "print(y_pred)\n",
        "print(accuracy_score(y_test,y_pred))"
      ]
    },
    {
      "cell_type": "code",
      "execution_count": null,
      "metadata": {
        "id": "DzLEZWmuiAy9"
      },
      "outputs": [],
      "source": [
        "def ANN_model(input_shape1, num_classes, X_train, y_train, x_test, y_tset):\n",
        "\n",
        "    model = Sequential()\n",
        "    # temp = input_shape1//2\n",
        "    model.add(Dense(input_shape1//8, activation='relu', input_shape = (input_shape1,)))\n",
        "    # model.add(Dense(1024, activation='relu'))\n",
        "    # model.add(Dense(512, activation='relu'))\n",
        "    # model.add(Dense(64, activation='relu'))\n",
        "\n",
        "    # while(temp > 32):\n",
        "        # model.add(Dense(temp//2, activation='relu'))\n",
        "\n",
        "    model.add(Dense(num_classes, activation='softmax'))\n",
        "\n",
        "    model.compile(loss = 'sparse_categorical_crossentropy', optimizer = 'adam', metrics = ['accuracy'])\n",
        "    history_callback = model.fit(X_train, y_train, batch_size = 64, epochs = 5, validation_split=0.2)\n",
        "\n",
        "    hist = pd.DataFrame(history_callback.history)\n",
        "    plt.plot(hist.index, hist['loss'], label ='training loss')\n",
        "    plt.plot(hist.index, hist['val_loss'], label = 'val loss')\n",
        "    plt.legend()\n",
        "    plt.xlabel('epochs')\n",
        "    plt.ylabel('loss')\n",
        "    plt.show()\n",
        "\n",
        "    plt.plot(hist.index, hist['accuracy'], '-b', label = 'training accuracy')\n",
        "    plt.plot(hist.index, hist['val_accuracy'], '-r', label = 'val accuracy')\n",
        "    plt.legend()\n",
        "    plt.ylabel('accuracy')\n",
        "    plt.xlabel('epochs')\n",
        "    plt.show()\n",
        "\n",
        "    score = model.evaluate(x_test, y_test, verbose = 0)\n",
        "    print(\"Test Loss: {:.3f}\".format(score[0]))\n",
        "    print(\"Test Accuracy: {:.3f}\".format(score[1]))"
      ]
    },
    {
      "cell_type": "code",
      "execution_count": null,
      "metadata": {
        "id": "fE0vobz2phgp"
      },
      "outputs": [],
      "source": [
        "input_shape1 = len(embeeded_layer_npArray[0])\n",
        "num_classes = len(np.unique(y))\n",
        "print(input_shape1)\n",
        "print(num_classes)"
      ]
    },
    {
      "cell_type": "code",
      "execution_count": null,
      "metadata": {
        "id": "W59ryChbHX0z"
      },
      "outputs": [],
      "source": [
        "ANN_model(input_shape1, num_classes, x_train, y_train, x_test, y_test)"
      ]
    }
  ],
  "metadata": {
    "accelerator": "GPU",
    "colab": {
      "machine_shape": "hm",
      "provenance": []
    },
    "gpuClass": "premium",
    "kernelspec": {
      "display_name": "Python 3",
      "name": "python3"
    },
    "language_info": {
      "name": "python"
    }
  },
  "nbformat": 4,
  "nbformat_minor": 0
}